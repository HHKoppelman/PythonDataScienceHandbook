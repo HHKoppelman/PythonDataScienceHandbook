{
 "cells": [
  {
   "cell_type": "markdown",
   "metadata": {},
   "source": [
    "Based on:\n",
    "https://jakevdp.github.io/PythonDataScienceHandbook/03.11-working-with-time-series.html"
   ]
  },
  {
   "cell_type": "code",
   "execution_count": 1,
   "metadata": {},
   "outputs": [
    {
     "data": {
      "text/html": [
       "<style>.container { width:100% !important; }</style>"
      ],
      "text/plain": [
       "<IPython.core.display.HTML object>"
      ]
     },
     "metadata": {},
     "output_type": "display_data"
    }
   ],
   "source": [
    "import numpy as np\n",
    "import matplotlib.pyplot as plt\n",
    "import pandas as pd\n",
    "\n",
    "%matplotlib inline\n",
    "%config InlineBackend.figure_format = 'retina'\n",
    "%config IPCompleter.use_jedi = False\n",
    "\n",
    "from IPython.core.display import display, HTML\n",
    "display(HTML(\"<style>.container { width:100% !important; }</style>\"))\n",
    "\n",
    "import seaborn as sns\n",
    "sns.set()"
   ]
  },
  {
   "cell_type": "markdown",
   "metadata": {},
   "source": [
    "### First: Python tools for dates and times"
   ]
  },
  {
   "cell_type": "markdown",
   "metadata": {},
   "source": [
    "# Resampling, Shifting, and Windowing"
   ]
  },
  {
   "cell_type": "markdown",
   "metadata": {},
   "source": [
    "`conda install pandas-datareader`"
   ]
  },
  {
   "cell_type": "code",
   "execution_count": 2,
   "metadata": {},
   "outputs": [],
   "source": [
    "from pandas_datareader import data as reader\n",
    "\n",
    "aapl = reader.DataReader('AAPL', start='2015', end=None,\n",
    "                       data_source='yahoo')\n",
    "aapl.head()\n",
    "aapl = aapl['Close']\n",
    "\n"
   ]
  },
  {
   "cell_type": "code",
   "execution_count": 3,
   "metadata": {
    "scrolled": false
   },
   "outputs": [
    {
     "data": {
      "text/plain": [
       "array(['T', 'abs', 'add', 'add_prefix', 'add_suffix', 'agg', 'aggregate',\n",
       "       'align', 'all', 'any', 'append', 'apply', 'argmax', 'argmin',\n",
       "       'argsort', 'array', 'asfreq', 'asof', 'astype', 'at', 'at_time',\n",
       "       'attrs', 'autocorr', 'axes', 'backfill', 'between', 'between_time',\n",
       "       'bfill', 'bool', 'clip', 'combine', 'combine_first', 'compare',\n",
       "       'convert_dtypes', 'copy', 'corr', 'count', 'cov', 'cummax',\n",
       "       'cummin', 'cumprod', 'cumsum', 'describe', 'diff', 'div', 'divide',\n",
       "       'divmod', 'dot', 'drop', 'drop_duplicates', 'droplevel', 'dropna',\n",
       "       'dtype', 'dtypes', 'duplicated', 'empty', 'eq', 'equals', 'ewm',\n",
       "       'expanding', 'explode', 'factorize', 'ffill', 'fillna', 'filter',\n",
       "       'first', 'first_valid_index', 'floordiv', 'ge', 'get', 'groupby',\n",
       "       'gt', 'hasnans', 'head', 'hist', 'iat', 'idxmax', 'idxmin', 'iloc',\n",
       "       'index', 'infer_objects', 'interpolate', 'is_monotonic',\n",
       "       'is_monotonic_decreasing', 'is_monotonic_increasing', 'is_unique',\n",
       "       'isin', 'isna', 'isnull', 'item', 'items', 'iteritems', 'keys',\n",
       "       'kurt', 'kurtosis', 'last', 'last_valid_index', 'le', 'loc', 'lt',\n",
       "       'mad', 'map', 'mask', 'max', 'mean', 'median', 'memory_usage',\n",
       "       'min', 'mod', 'mode', 'mul', 'multiply', 'name', 'nbytes', 'ndim',\n",
       "       'ne', 'nlargest', 'notna', 'notnull', 'nsmallest', 'nunique',\n",
       "       'pad', 'pct_change', 'pipe', 'plot', 'pop', 'pow', 'prod',\n",
       "       'product', 'quantile', 'radd', 'rank', 'ravel', 'rdiv', 'rdivmod',\n",
       "       'reindex', 'reindex_like', 'rename', 'rename_axis',\n",
       "       'reorder_levels', 'repeat', 'replace', 'resample', 'reset_index',\n",
       "       'rfloordiv', 'rmod', 'rmul', 'rolling', 'round', 'rpow', 'rsub',\n",
       "       'rtruediv', 'sample', 'searchsorted', 'sem', 'set_axis', 'shape',\n",
       "       'shift', 'size', 'skew', 'slice_shift', 'sort_index',\n",
       "       'sort_values', 'squeeze', 'std', 'sub', 'subtract', 'sum',\n",
       "       'swapaxes', 'swaplevel', 'tail', 'take', 'to_clipboard', 'to_csv',\n",
       "       'to_dict', 'to_excel', 'to_frame', 'to_hdf', 'to_json', 'to_latex',\n",
       "       'to_list', 'to_markdown', 'to_numpy', 'to_period', 'to_pickle',\n",
       "       'to_sql', 'to_string', 'to_timestamp', 'to_xarray', 'transform',\n",
       "       'transpose', 'truediv', 'truncate', 'tz_convert', 'tz_localize',\n",
       "       'unique', 'unstack', 'update', 'value_counts', 'values', 'var',\n",
       "       'view', 'where', 'xs'], dtype=object)"
      ]
     },
     "execution_count": 3,
     "metadata": {},
     "output_type": "execute_result"
    }
   ],
   "source": [
    "tmp = pd.Series(aapl.__dir__())\n",
    "tmp[~tmp.str.startswith('_')].values"
   ]
  },
  {
   "cell_type": "code",
   "execution_count": 18,
   "metadata": {},
   "outputs": [
    {
     "data": {
      "text/html": [
       "<div>\n",
       "<style scoped>\n",
       "    .dataframe tbody tr th:only-of-type {\n",
       "        vertical-align: middle;\n",
       "    }\n",
       "\n",
       "    .dataframe tbody tr th {\n",
       "        vertical-align: top;\n",
       "    }\n",
       "\n",
       "    .dataframe thead th {\n",
       "        text-align: right;\n",
       "    }\n",
       "</style>\n",
       "<table border=\"1\" class=\"dataframe\">\n",
       "  <thead>\n",
       "    <tr style=\"text-align: right;\">\n",
       "      <th></th>\n",
       "      <th></th>\n",
       "      <th></th>\n",
       "      <th>num_legs</th>\n",
       "      <th>num_wings</th>\n",
       "    </tr>\n",
       "    <tr>\n",
       "      <th>class</th>\n",
       "      <th>animal</th>\n",
       "      <th>locomotion</th>\n",
       "      <th></th>\n",
       "      <th></th>\n",
       "    </tr>\n",
       "  </thead>\n",
       "  <tbody>\n",
       "    <tr>\n",
       "      <th rowspan=\"3\" valign=\"top\">mammal</th>\n",
       "      <th>cat</th>\n",
       "      <th>walks</th>\n",
       "      <td>4</td>\n",
       "      <td>0</td>\n",
       "    </tr>\n",
       "    <tr>\n",
       "      <th>dog</th>\n",
       "      <th>walks</th>\n",
       "      <td>4</td>\n",
       "      <td>0</td>\n",
       "    </tr>\n",
       "    <tr>\n",
       "      <th>bat</th>\n",
       "      <th>flies</th>\n",
       "      <td>2</td>\n",
       "      <td>2</td>\n",
       "    </tr>\n",
       "    <tr>\n",
       "      <th>bird</th>\n",
       "      <th>penguin</th>\n",
       "      <th>walks</th>\n",
       "      <td>2</td>\n",
       "      <td>2</td>\n",
       "    </tr>\n",
       "  </tbody>\n",
       "</table>\n",
       "</div>"
      ],
      "text/plain": [
       "                           num_legs  num_wings\n",
       "class  animal  locomotion                     \n",
       "mammal cat     walks              4          0\n",
       "       dog     walks              4          0\n",
       "       bat     flies              2          2\n",
       "bird   penguin walks              2          2"
      ]
     },
     "execution_count": 18,
     "metadata": {},
     "output_type": "execute_result"
    }
   ],
   "source": [
    ">>> d = {'num_legs': [4, 4, 2, 2],\n",
    "...      'num_wings': [0, 0, 2, 2],\n",
    "...      'class': ['mammal', 'mammal', 'mammal', 'bird'],\n",
    "...      'animal': ['cat', 'dog', 'bat', 'penguin'],\n",
    "...      'locomotion': ['walks', 'walks', 'flies', 'walks']}\n",
    ">>> df = pd.DataFrame(data=d)\n",
    ">>> df = df.set_index(['class', 'animal', 'locomotion'])\n",
    ">>> df"
   ]
  },
  {
   "cell_type": "code",
   "execution_count": 22,
   "metadata": {},
   "outputs": [
    {
     "data": {
      "text/html": [
       "<div>\n",
       "<style scoped>\n",
       "    .dataframe tbody tr th:only-of-type {\n",
       "        vertical-align: middle;\n",
       "    }\n",
       "\n",
       "    .dataframe tbody tr th {\n",
       "        vertical-align: top;\n",
       "    }\n",
       "\n",
       "    .dataframe thead th {\n",
       "        text-align: right;\n",
       "    }\n",
       "</style>\n",
       "<table border=\"1\" class=\"dataframe\">\n",
       "  <thead>\n",
       "    <tr style=\"text-align: right;\">\n",
       "      <th></th>\n",
       "      <th></th>\n",
       "      <th>num_legs</th>\n",
       "      <th>num_wings</th>\n",
       "    </tr>\n",
       "    <tr>\n",
       "      <th>animal</th>\n",
       "      <th>locomotion</th>\n",
       "      <th></th>\n",
       "      <th></th>\n",
       "    </tr>\n",
       "  </thead>\n",
       "  <tbody>\n",
       "    <tr>\n",
       "      <th>cat</th>\n",
       "      <th>walks</th>\n",
       "      <td>4</td>\n",
       "      <td>0</td>\n",
       "    </tr>\n",
       "    <tr>\n",
       "      <th>dog</th>\n",
       "      <th>walks</th>\n",
       "      <td>4</td>\n",
       "      <td>0</td>\n",
       "    </tr>\n",
       "    <tr>\n",
       "      <th>bat</th>\n",
       "      <th>flies</th>\n",
       "      <td>2</td>\n",
       "      <td>2</td>\n",
       "    </tr>\n",
       "  </tbody>\n",
       "</table>\n",
       "</div>"
      ],
      "text/plain": [
       "                   num_legs  num_wings\n",
       "animal locomotion                     \n",
       "cat    walks              4          0\n",
       "dog    walks              4          0\n",
       "bat    flies              2          2"
      ]
     },
     "execution_count": 22,
     "metadata": {},
     "output_type": "execute_result"
    }
   ],
   "source": [
    "df.xs('mammal')"
   ]
  },
  {
   "cell_type": "code",
   "execution_count": null,
   "metadata": {},
   "outputs": [],
   "source": []
  },
  {
   "cell_type": "code",
   "execution_count": 16,
   "metadata": {},
   "outputs": [
    {
     "name": "stdout",
     "output_type": "stream",
     "text": [
      "\n",
      "        Return cross-section from the Series/DataFrame.\n",
      "\n",
      "        This method takes a `key` argument to select data at a particular\n",
      "        level of a MultiIndex.\n",
      "\n",
      "        Parameters\n",
      "        ----------\n",
      "        key : label or tuple of label\n",
      "            Label contained in the index, or partially in a MultiIndex.\n",
      "        axis : {0 or 'index', 1 or 'columns'}, default 0\n",
      "            Axis to retrieve cross-section on.\n",
      "        level : object, defaults to first n levels (n=1 or len(key))\n",
      "            In case of a key partially contained in a MultiIndex, indicate\n",
      "            which levels are used. Levels can be referred by label or position.\n",
      "        drop_level : bool, default True\n",
      "            If False, returns object with same levels as self.\n",
      "\n",
      "        Returns\n",
      "        -------\n",
      "        Series or DataFrame\n",
      "            Cross-section from the original Series or DataFrame\n",
      "            corresponding to the selected index levels.\n",
      "\n",
      "        See Also\n",
      "        --------\n",
      "        DataFrame.loc : Access a group of rows and columns\n",
      "            by label(s) or a boolean array.\n",
      "        DataFrame.iloc : Purely integer-location based indexing\n",
      "            for selection by position.\n",
      "\n",
      "        Notes\n",
      "        -----\n",
      "        `xs` can not be used to set values.\n",
      "\n",
      "        MultiIndex Slicers is a generic way to get/set values on\n",
      "        any level or levels.\n",
      "        It is a superset of `xs` functionality, see\n",
      "        :ref:`MultiIndex Slicers <advanced.mi_slicers>`.\n",
      "\n",
      "        Examples\n",
      "        --------\n",
      "        >>> d = {'num_legs': [4, 4, 2, 2],\n",
      "        ...      'num_wings': [0, 0, 2, 2],\n",
      "        ...      'class': ['mammal', 'mammal', 'mammal', 'bird'],\n",
      "        ...      'animal': ['cat', 'dog', 'bat', 'penguin'],\n",
      "        ...      'locomotion': ['walks', 'walks', 'flies', 'walks']}\n",
      "        >>> df = pd.DataFrame(data=d)\n",
      "        >>> df = df.set_index(['class', 'animal', 'locomotion'])\n",
      "        >>> df\n",
      "                                   num_legs  num_wings\n",
      "        class  animal  locomotion\n",
      "        mammal cat     walks              4          0\n",
      "               dog     walks              4          0\n",
      "               bat     flies              2          2\n",
      "        bird   penguin walks              2          2\n",
      "\n",
      "        Get values at specified index\n",
      "\n",
      "        >>> df.xs('mammal')\n",
      "                           num_legs  num_wings\n",
      "        animal locomotion\n",
      "        cat    walks              4          0\n",
      "        dog    walks              4          0\n",
      "        bat    flies              2          2\n",
      "\n",
      "        Get values at several indexes\n",
      "\n",
      "        >>> df.xs(('mammal', 'dog'))\n",
      "                    num_legs  num_wings\n",
      "        locomotion\n",
      "        walks              4          0\n",
      "\n",
      "        Get values at specified index and level\n",
      "\n",
      "        >>> df.xs('cat', level=1)\n",
      "                           num_legs  num_wings\n",
      "        class  locomotion\n",
      "        mammal walks              4          0\n",
      "\n",
      "        Get values at several indexes and levels\n",
      "\n",
      "        >>> df.xs(('bird', 'walks'),\n",
      "        ...       level=[0, 'locomotion'])\n",
      "                 num_legs  num_wings\n",
      "        animal\n",
      "        penguin         2          2\n",
      "\n",
      "        Get values at specified column and axis\n",
      "\n",
      "        >>> df.xs('num_wings', axis=1)\n",
      "        class   animal   locomotion\n",
      "        mammal  cat      walks         0\n",
      "                dog      walks         0\n",
      "                bat      flies         2\n",
      "        bird    penguin  walks         2\n",
      "        Name: num_wings, dtype: int64\n",
      "        \n"
     ]
    }
   ],
   "source": [
    "print(aapl.xs.__doc__)"
   ]
  },
  {
   "cell_type": "code",
   "execution_count": null,
   "metadata": {},
   "outputs": [],
   "source": []
  },
  {
   "cell_type": "code",
   "execution_count": 15,
   "metadata": {},
   "outputs": [
    {
     "name": "stdout",
     "output_type": "stream",
     "text": [
      "\n",
      "        Convert tz-aware axis to target time zone.\n",
      "\n",
      "        Parameters\n",
      "        ----------\n",
      "        tz : str or tzinfo object\n",
      "        axis : the axis to convert\n",
      "        level : int, str, default None\n",
      "            If axis is a MultiIndex, convert a specific level. Otherwise\n",
      "            must be None.\n",
      "        copy : bool, default True\n",
      "            Also make a copy of the underlying data.\n",
      "\n",
      "        Returns\n",
      "        -------\n",
      "        {klass}\n",
      "            Object with time zone converted axis.\n",
      "\n",
      "        Raises\n",
      "        ------\n",
      "        TypeError\n",
      "            If the axis is tz-naive.\n",
      "        \n"
     ]
    }
   ],
   "source": [
    "print(aapl.tz_convert.__doc__)"
   ]
  },
  {
   "cell_type": "code",
   "execution_count": null,
   "metadata": {},
   "outputs": [],
   "source": []
  },
  {
   "cell_type": "code",
   "execution_count": 4,
   "metadata": {},
   "outputs": [
    {
     "name": "stdout",
     "output_type": "stream",
     "text": [
      "\n",
      "Return unbiased standard error of the mean over requested axis.\n",
      "\n",
      "Normalized by N-1 by default. This can be changed using the ddof argument\n",
      "\n",
      "Parameters\n",
      "----------\n",
      "axis : {index (0)}\n",
      "skipna : bool, default True\n",
      "    Exclude NA/null values. If an entire row/column is NA, the result\n",
      "    will be NA.\n",
      "level : int or level name, default None\n",
      "    If the axis is a MultiIndex (hierarchical), count along a\n",
      "    particular level, collapsing into a scalar.\n",
      "ddof : int, default 1\n",
      "    Delta Degrees of Freedom. The divisor used in calculations is N - ddof,\n",
      "    where N represents the number of elements.\n",
      "numeric_only : bool, default None\n",
      "    Include only float, int, boolean columns. If None, will attempt to use\n",
      "    everything, then use only numeric data. Not implemented for Series.\n",
      "\n",
      "Returns\n",
      "-------\n",
      "scalar or Series (if level specified)\n",
      "\n"
     ]
    }
   ],
   "source": [
    "print(aapl.sem.__doc__)"
   ]
  },
  {
   "cell_type": "code",
   "execution_count": null,
   "metadata": {},
   "outputs": [],
   "source": []
  },
  {
   "cell_type": "code",
   "execution_count": 5,
   "metadata": {},
   "outputs": [
    {
     "name": "stdout",
     "output_type": "stream",
     "text": [
      "\n",
      "Apply func(self, \\*args, \\*\\*kwargs).\n",
      "\n",
      "Parameters\n",
      "----------\n",
      "func : function\n",
      "    Function to apply to the Series/DataFrame.\n",
      "    ``args``, and ``kwargs`` are passed into ``func``.\n",
      "    Alternatively a ``(callable, data_keyword)`` tuple where\n",
      "    ``data_keyword`` is a string indicating the keyword of\n",
      "    ``callable`` that expects the Series/DataFrame.\n",
      "args : iterable, optional\n",
      "    Positional arguments passed into ``func``.\n",
      "kwargs : mapping, optional\n",
      "    A dictionary of keyword arguments passed into ``func``.\n",
      "\n",
      "Returns\n",
      "-------\n",
      "object : the return type of ``func``.\n",
      "\n",
      "See Also\n",
      "--------\n",
      "DataFrame.apply : Apply a function along input axis of DataFrame.\n",
      "DataFrame.applymap : Apply a function elementwise on a whole DataFrame.\n",
      "Series.map : Apply a mapping correspondence on a\n",
      "    :class:`~pandas.Series`.\n",
      "\n",
      "Notes\n",
      "-----\n",
      "Use ``.pipe`` when chaining together functions that expect\n",
      "Series, DataFrames or GroupBy objects. Instead of writing\n",
      "\n",
      ">>> func(g(h(df), arg1=a), arg2=b, arg3=c)  # doctest: +SKIP\n",
      "\n",
      "You can write\n",
      "\n",
      ">>> (df.pipe(h)\n",
      "...    .pipe(g, arg1=a)\n",
      "...    .pipe(func, arg2=b, arg3=c)\n",
      "... )  # doctest: +SKIP\n",
      "\n",
      "If you have a function that takes the data as (say) the second\n",
      "argument, pass a tuple indicating which keyword expects the\n",
      "data. For example, suppose ``f`` takes its data as ``arg2``:\n",
      "\n",
      ">>> (df.pipe(h)\n",
      "...    .pipe(g, arg1=a)\n",
      "...    .pipe((func, 'arg2'), arg1=a, arg3=c)\n",
      "...  )  # doctest: +SKIP\n",
      "\n"
     ]
    }
   ],
   "source": [
    "print(aapl.pipe.__doc__)"
   ]
  },
  {
   "cell_type": "code",
   "execution_count": null,
   "metadata": {},
   "outputs": [],
   "source": []
  },
  {
   "cell_type": "code",
   "execution_count": 6,
   "metadata": {},
   "outputs": [
    {
     "data": {
      "text/plain": [
       "Date\n",
       "2015-01-02         NaN\n",
       "2015-01-05   -0.028172\n",
       "2015-01-06    0.000094\n",
       "2015-01-07    0.014022\n",
       "2015-01-08    0.038422\n",
       "                ...   \n",
       "2021-05-04   -0.035386\n",
       "2021-05-05    0.001955\n",
       "2021-05-06    0.012802\n",
       "2021-05-07    0.003623\n",
       "2021-05-10   -0.024729\n",
       "Name: Close, Length: 1599, dtype: float64"
      ]
     },
     "execution_count": 6,
     "metadata": {},
     "output_type": "execute_result"
    }
   ],
   "source": [
    "aapl.pct_change()"
   ]
  },
  {
   "cell_type": "code",
   "execution_count": null,
   "metadata": {},
   "outputs": [],
   "source": []
  },
  {
   "cell_type": "code",
   "execution_count": 7,
   "metadata": {},
   "outputs": [
    {
     "name": "stdout",
     "output_type": "stream",
     "text": [
      "False\n",
      "False\n",
      "False\n"
     ]
    }
   ],
   "source": [
    "print(aapl.is_monotonic)\n",
    "print(aapl.is_monotonic_decreasing)\n",
    "print(aapl.is_monotonic_increasing)"
   ]
  },
  {
   "cell_type": "code",
   "execution_count": 8,
   "metadata": {},
   "outputs": [
    {
     "data": {
      "text/plain": [
       "Date\n",
       "2021-01-26    143.160004\n",
       "2021-01-25    142.919998\n",
       "2021-01-27    142.059998\n",
       "2021-01-22    139.070007\n",
       "Name: Close, dtype: float64"
      ]
     },
     "execution_count": 8,
     "metadata": {},
     "output_type": "execute_result"
    }
   ],
   "source": [
    "aapl.nlargest(4)"
   ]
  },
  {
   "cell_type": "code",
   "execution_count": 9,
   "metadata": {},
   "outputs": [
    {
     "data": {
      "text/plain": [
       "Date\n",
       "2016-05-12    22.584999\n",
       "2016-05-13    22.629999\n",
       "2016-06-27    23.010000\n",
       "2016-05-11    23.127501\n",
       "Name: Close, dtype: float64"
      ]
     },
     "execution_count": 9,
     "metadata": {},
     "output_type": "execute_result"
    }
   ],
   "source": [
    "aapl.nsmallest(4)"
   ]
  },
  {
   "cell_type": "code",
   "execution_count": 10,
   "metadata": {},
   "outputs": [
    {
     "name": "stdout",
     "output_type": "stream",
     "text": [
      "\n",
      "Return Modulo of series and other, element-wise (binary operator `mod`).\n",
      "\n",
      "Equivalent to ``series % other``, but with support to substitute a fill_value for\n",
      "missing data in either one of the inputs.\n",
      "\n",
      "Parameters\n",
      "----------\n",
      "other : Series or scalar value\n",
      "fill_value : None or float value, default None (NaN)\n",
      "    Fill existing missing (NaN) values, and any new element needed for\n",
      "    successful Series alignment, with this value before computation.\n",
      "    If data in both corresponding Series locations is missing\n",
      "    the result of filling (at that location) will be missing.\n",
      "level : int or name\n",
      "    Broadcast across a level, matching Index values on the\n",
      "    passed MultiIndex level.\n",
      "\n",
      "Returns\n",
      "-------\n",
      "Series\n",
      "    The result of the operation.\n",
      "\n",
      "See Also\n",
      "--------\n",
      "Series.rmod : Reverse of the Modulo operator, see\n",
      "    `Python documentation\n",
      "    <https://docs.python.org/3/reference/datamodel.html#emulating-numeric-types>`_\n",
      "    for more details.\n",
      "\n",
      "Examples\n",
      "--------\n",
      ">>> a = pd.Series([1, 1, 1, np.nan], index=['a', 'b', 'c', 'd'])\n",
      ">>> a\n",
      "a    1.0\n",
      "b    1.0\n",
      "c    1.0\n",
      "d    NaN\n",
      "dtype: float64\n",
      ">>> b = pd.Series([1, np.nan, 1, np.nan], index=['a', 'b', 'd', 'e'])\n",
      ">>> b\n",
      "a    1.0\n",
      "b    NaN\n",
      "d    1.0\n",
      "e    NaN\n",
      "dtype: float64\n",
      ">>> a.mod(b, fill_value=0)\n",
      "a    0.0\n",
      "b    NaN\n",
      "c    NaN\n",
      "d    0.0\n",
      "e    NaN\n",
      "dtype: float64\n",
      "\n"
     ]
    }
   ],
   "source": [
    "print(aapl.mod.__doc__)"
   ]
  },
  {
   "cell_type": "code",
   "execution_count": 11,
   "metadata": {},
   "outputs": [
    {
     "name": "stdout",
     "output_type": "stream",
     "text": [
      "\n",
      "Return the mean absolute deviation of the values for the requested axis.\n",
      "\n",
      "Parameters\n",
      "----------\n",
      "axis : {index (0)}\n",
      "    Axis for the function to be applied on.\n",
      "skipna : bool, default None\n",
      "    Exclude NA/null values when computing the result.\n",
      "level : int or level name, default None\n",
      "    If the axis is a MultiIndex (hierarchical), count along a\n",
      "    particular level, collapsing into a scalar.\n",
      "\n",
      "Returns\n",
      "-------\n",
      "scalar or Series (if level specified)                        \n",
      "\n"
     ]
    }
   ],
   "source": [
    "print(aapl.mad.__doc__)"
   ]
  },
  {
   "cell_type": "code",
   "execution_count": null,
   "metadata": {},
   "outputs": [],
   "source": []
  },
  {
   "cell_type": "code",
   "execution_count": 12,
   "metadata": {},
   "outputs": [
    {
     "name": "stdout",
     "output_type": "stream",
     "text": [
      "\n",
      "        Transform each element of a list-like to a row.\n",
      "\n",
      "        .. versionadded:: 0.25.0\n",
      "\n",
      "        Parameters\n",
      "        ----------\n",
      "        ignore_index : bool, default False\n",
      "            If True, the resulting index will be labeled 0, 1, …, n - 1.\n",
      "\n",
      "            .. versionadded:: 1.1.0\n",
      "\n",
      "        Returns\n",
      "        -------\n",
      "        Series\n",
      "            Exploded lists to rows; index will be duplicated for these rows.\n",
      "\n",
      "        See Also\n",
      "        --------\n",
      "        Series.str.split : Split string values on specified separator.\n",
      "        Series.unstack : Unstack, a.k.a. pivot, Series with MultiIndex\n",
      "            to produce DataFrame.\n",
      "        DataFrame.melt : Unpivot a DataFrame from wide format to long format.\n",
      "        DataFrame.explode : Explode a DataFrame from list-like\n",
      "            columns to long format.\n",
      "\n",
      "        Notes\n",
      "        -----\n",
      "        This routine will explode list-likes including lists, tuples,\n",
      "        Series, and np.ndarray. The result dtype of the subset rows will\n",
      "        be object. Scalars will be returned unchanged. Empty list-likes will\n",
      "        result in a np.nan for that row.\n",
      "\n",
      "        Examples\n",
      "        --------\n",
      "        >>> s = pd.Series([[1, 2, 3], 'foo', [], [3, 4]])\n",
      "        >>> s\n",
      "        0    [1, 2, 3]\n",
      "        1          foo\n",
      "        2           []\n",
      "        3       [3, 4]\n",
      "        dtype: object\n",
      "\n",
      "        >>> s.explode()\n",
      "        0      1\n",
      "        0      2\n",
      "        0      3\n",
      "        1    foo\n",
      "        2    NaN\n",
      "        3      3\n",
      "        3      4\n",
      "        dtype: object\n",
      "        \n"
     ]
    }
   ],
   "source": [
    "print(aapl.explode.__doc__)"
   ]
  },
  {
   "cell_type": "code",
   "execution_count": 13,
   "metadata": {
    "scrolled": false
   },
   "outputs": [
    {
     "name": "stdout",
     "output_type": "stream",
     "text": [
      "\n",
      "Encode the object as an enumerated type or categorical variable.\n",
      "\n",
      "This method is useful for obtaining a numeric representation of an\n",
      "array when all that matters is identifying distinct values. `factorize`\n",
      "is available as both a top-level function :func:`pandas.factorize`,\n",
      "and as a method :meth:`Series.factorize` and :meth:`Index.factorize`.\n",
      "\n",
      "Parameters\n",
      "----------\n",
      "sort : bool, default False\n",
      "    Sort `uniques` and shuffle `codes` to maintain the\n",
      "    relationship.\n",
      "\n",
      "na_sentinel : int or None, default -1\n",
      "    Value to mark \"not found\". If None, will not drop the NaN\n",
      "    from the uniques of the values.\n",
      "\n",
      "    .. versionchanged:: 1.1.2\n",
      "\n",
      "Returns\n",
      "-------\n",
      "codes : ndarray\n",
      "    An integer ndarray that's an indexer into `uniques`.\n",
      "    ``uniques.take(codes)`` will have the same values as `values`.\n",
      "uniques : ndarray, Index, or Categorical\n",
      "    The unique valid values. When `values` is Categorical, `uniques`\n",
      "    is a Categorical. When `values` is some other pandas object, an\n",
      "    `Index` is returned. Otherwise, a 1-D ndarray is returned.\n",
      "\n",
      "    .. note ::\n",
      "\n",
      "       Even if there's a missing value in `values`, `uniques` will\n",
      "       *not* contain an entry for it.\n",
      "\n",
      "See Also\n",
      "--------\n",
      "cut : Discretize continuous-valued array.\n",
      "unique : Find the unique value in an array.\n",
      "\n",
      "Examples\n",
      "--------\n",
      "These examples all show factorize as a top-level method like\n",
      "``pd.factorize(values)``. The results are identical for methods like\n",
      ":meth:`Series.factorize`.\n",
      "\n",
      ">>> codes, uniques = pd.factorize(['b', 'b', 'a', 'c', 'b'])\n",
      ">>> codes\n",
      "array([0, 0, 1, 2, 0]...)\n",
      ">>> uniques\n",
      "array(['b', 'a', 'c'], dtype=object)\n",
      "\n",
      "With ``sort=True``, the `uniques` will be sorted, and `codes` will be\n",
      "shuffled so that the relationship is the maintained.\n",
      "\n",
      ">>> codes, uniques = pd.factorize(['b', 'b', 'a', 'c', 'b'], sort=True)\n",
      ">>> codes\n",
      "array([1, 1, 0, 2, 1]...)\n",
      ">>> uniques\n",
      "array(['a', 'b', 'c'], dtype=object)\n",
      "\n",
      "Missing values are indicated in `codes` with `na_sentinel`\n",
      "(``-1`` by default). Note that missing values are never\n",
      "included in `uniques`.\n",
      "\n",
      ">>> codes, uniques = pd.factorize(['b', None, 'a', 'c', 'b'])\n",
      ">>> codes\n",
      "array([ 0, -1,  1,  2,  0]...)\n",
      ">>> uniques\n",
      "array(['b', 'a', 'c'], dtype=object)\n",
      "\n",
      "Thus far, we've only factorized lists (which are internally coerced to\n",
      "NumPy arrays). When factorizing pandas objects, the type of `uniques`\n",
      "will differ. For Categoricals, a `Categorical` is returned.\n",
      "\n",
      ">>> cat = pd.Categorical(['a', 'a', 'c'], categories=['a', 'b', 'c'])\n",
      ">>> codes, uniques = pd.factorize(cat)\n",
      ">>> codes\n",
      "array([0, 0, 1]...)\n",
      ">>> uniques\n",
      "['a', 'c']\n",
      "Categories (3, object): ['a', 'b', 'c']\n",
      "\n",
      "Notice that ``'b'`` is in ``uniques.categories``, despite not being\n",
      "present in ``cat.values``.\n",
      "\n",
      "For all other pandas objects, an Index of the appropriate type is\n",
      "returned.\n",
      "\n",
      ">>> cat = pd.Series(['a', 'a', 'c'])\n",
      ">>> codes, uniques = pd.factorize(cat)\n",
      ">>> codes\n",
      "array([0, 0, 1]...)\n",
      ">>> uniques\n",
      "Index(['a', 'c'], dtype='object')\n",
      "\n",
      "If NaN is in the values, and we want to include NaN in the uniques of the\n",
      "values, it can be achieved by setting ``na_sentinel=None``.\n",
      "\n",
      ">>> values = np.array([1, 2, 1, np.nan])\n",
      ">>> codes, uniques = pd.factorize(values)  # default: na_sentinel=-1\n",
      ">>> codes\n",
      "array([ 0,  1,  0, -1])\n",
      ">>> uniques\n",
      "array([1., 2.])\n",
      "\n",
      ">>> codes, uniques = pd.factorize(values, na_sentinel=None)\n",
      ">>> codes\n",
      "array([0, 1, 0, 2])\n",
      ">>> uniques\n",
      "array([ 1.,  2., nan])\n",
      "\n"
     ]
    }
   ],
   "source": [
    "print(aapl.factorize.__doc__)"
   ]
  },
  {
   "cell_type": "code",
   "execution_count": 14,
   "metadata": {
    "scrolled": false
   },
   "outputs": [
    {
     "name": "stdout",
     "output_type": "stream",
     "text": [
      "\n",
      "Provide exponential weighted (EW) functions.\n",
      "\n",
      "Available EW functions: ``mean()``, ``var()``, ``std()``, ``corr()``, ``cov()``.\n",
      "\n",
      "Exactly one parameter: ``com``, ``span``, ``halflife``, or ``alpha`` must be\n",
      "provided.\n",
      "\n",
      "Parameters\n",
      "----------\n",
      "com : float, optional\n",
      "    Specify decay in terms of center of mass,\n",
      "    :math:`\\alpha = 1 / (1 + com)`, for :math:`com \\geq 0`.\n",
      "span : float, optional\n",
      "    Specify decay in terms of span,\n",
      "    :math:`\\alpha = 2 / (span + 1)`, for :math:`span \\geq 1`.\n",
      "halflife : float, str, timedelta, optional\n",
      "    Specify decay in terms of half-life,\n",
      "    :math:`\\alpha = 1 - \\exp\\left(-\\ln(2) / halflife\\right)`, for\n",
      "    :math:`halflife > 0`.\n",
      "\n",
      "    If ``times`` is specified, the time unit (str or timedelta) over which an\n",
      "    observation decays to half its value. Only applicable to ``mean()``\n",
      "    and halflife value will not apply to the other functions.\n",
      "\n",
      "    .. versionadded:: 1.1.0\n",
      "\n",
      "alpha : float, optional\n",
      "    Specify smoothing factor :math:`\\alpha` directly,\n",
      "    :math:`0 < \\alpha \\leq 1`.\n",
      "min_periods : int, default 0\n",
      "    Minimum number of observations in window required to have a value\n",
      "    (otherwise result is NA).\n",
      "adjust : bool, default True\n",
      "    Divide by decaying adjustment factor in beginning periods to account\n",
      "    for imbalance in relative weightings (viewing EWMA as a moving average).\n",
      "\n",
      "    - When ``adjust=True`` (default), the EW function is calculated using weights\n",
      "      :math:`w_i = (1 - \\alpha)^i`. For example, the EW moving average of the series\n",
      "      [:math:`x_0, x_1, ..., x_t`] would be:\n",
      "\n",
      "    .. math::\n",
      "        y_t = \\frac{x_t + (1 - \\alpha)x_{t-1} + (1 - \\alpha)^2 x_{t-2} + ... + (1 -\n",
      "        \\alpha)^t x_0}{1 + (1 - \\alpha) + (1 - \\alpha)^2 + ... + (1 - \\alpha)^t}\n",
      "\n",
      "    - When ``adjust=False``, the exponentially weighted function is calculated\n",
      "      recursively:\n",
      "\n",
      "    .. math::\n",
      "        \\begin{split}\n",
      "            y_0 &= x_0\\\\\n",
      "            y_t &= (1 - \\alpha) y_{t-1} + \\alpha x_t,\n",
      "        \\end{split}\n",
      "ignore_na : bool, default False\n",
      "    Ignore missing values when calculating weights; specify ``True`` to reproduce\n",
      "    pre-0.15.0 behavior.\n",
      "\n",
      "    - When ``ignore_na=False`` (default), weights are based on absolute positions.\n",
      "      For example, the weights of :math:`x_0` and :math:`x_2` used in calculating\n",
      "      the final weighted average of [:math:`x_0`, None, :math:`x_2`] are\n",
      "      :math:`(1-\\alpha)^2` and :math:`1` if ``adjust=True``, and\n",
      "      :math:`(1-\\alpha)^2` and :math:`\\alpha` if ``adjust=False``.\n",
      "\n",
      "    - When ``ignore_na=True`` (reproducing pre-0.15.0 behavior), weights are based\n",
      "      on relative positions. For example, the weights of :math:`x_0` and :math:`x_2`\n",
      "      used in calculating the final weighted average of\n",
      "      [:math:`x_0`, None, :math:`x_2`] are :math:`1-\\alpha` and :math:`1` if\n",
      "      ``adjust=True``, and :math:`1-\\alpha` and :math:`\\alpha` if ``adjust=False``.\n",
      "axis : {0, 1}, default 0\n",
      "    The axis to use. The value 0 identifies the rows, and 1\n",
      "    identifies the columns.\n",
      "times : str, np.ndarray, Series, default None\n",
      "\n",
      "    .. versionadded:: 1.1.0\n",
      "\n",
      "    Times corresponding to the observations. Must be monotonically increasing and\n",
      "    ``datetime64[ns]`` dtype.\n",
      "\n",
      "    If str, the name of the column in the DataFrame representing the times.\n",
      "\n",
      "    If 1-D array like, a sequence with the same shape as the observations.\n",
      "\n",
      "    Only applicable to ``mean()``.\n",
      "\n",
      "Returns\n",
      "-------\n",
      "DataFrame\n",
      "    A Window sub-classed for the particular operation.\n",
      "\n",
      "See Also\n",
      "--------\n",
      "rolling : Provides rolling window calculations.\n",
      "expanding : Provides expanding transformations.\n",
      "\n",
      "Notes\n",
      "-----\n",
      "\n",
      "More details can be found at:\n",
      ":ref:`Exponentially weighted windows <stats.moments.exponentially_weighted>`.\n",
      "\n",
      "Examples\n",
      "--------\n",
      ">>> df = pd.DataFrame({'B': [0, 1, 2, np.nan, 4]})\n",
      ">>> df\n",
      "     B\n",
      "0  0.0\n",
      "1  1.0\n",
      "2  2.0\n",
      "3  NaN\n",
      "4  4.0\n",
      "\n",
      ">>> df.ewm(com=0.5).mean()\n",
      "          B\n",
      "0  0.000000\n",
      "1  0.750000\n",
      "2  1.615385\n",
      "3  1.615385\n",
      "4  3.670213\n",
      "\n",
      "Specifying ``times`` with a timedelta ``halflife`` when computing mean.\n",
      "\n",
      ">>> times = ['2020-01-01', '2020-01-03', '2020-01-10', '2020-01-15', '2020-01-17']\n",
      ">>> df.ewm(halflife='4 days', times=pd.DatetimeIndex(times)).mean()\n",
      "          B\n",
      "0  0.000000\n",
      "1  0.585786\n",
      "2  1.523889\n",
      "3  1.523889\n",
      "4  3.233686\n",
      "\n"
     ]
    }
   ],
   "source": [
    "print(aapl.ewm.__doc__)"
   ]
  }
 ],
 "metadata": {
  "kernelspec": {
   "display_name": "Python 3",
   "language": "python",
   "name": "python3"
  },
  "language_info": {
   "codemirror_mode": {
    "name": "ipython",
    "version": 3
   },
   "file_extension": ".py",
   "mimetype": "text/x-python",
   "name": "python",
   "nbconvert_exporter": "python",
   "pygments_lexer": "ipython3",
   "version": "3.7.8"
  }
 },
 "nbformat": 4,
 "nbformat_minor": 4
}
